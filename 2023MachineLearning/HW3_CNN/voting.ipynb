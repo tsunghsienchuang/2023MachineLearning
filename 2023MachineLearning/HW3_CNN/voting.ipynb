{
 "cells": [
  {
   "cell_type": "markdown",
   "metadata": {},
   "source": [
    "Use the best four results to do voting"
   ]
  },
  {
   "cell_type": "code",
   "execution_count": 1,
   "metadata": {},
   "outputs": [],
   "source": [
    "import numpy as np\n",
    "import pandas as pd"
   ]
  },
  {
   "cell_type": "code",
   "execution_count": 2,
   "metadata": {
    "scrolled": true
   },
   "outputs": [],
   "source": [
    "pred1 = pd.read_csv(\"submission_ResNet50.csv\")\n",
    "pred2 = pd.read_csv(\"submission_ResNet152.csv\")\n",
    "pred3 = pd.read_csv(\"submission_vgg19bn.csv\")\n",
    "pred4 = pd.read_csv(\"submission_vgg16bn.csv\")"
   ]
  },
  {
   "cell_type": "code",
   "execution_count": 4,
   "metadata": {},
   "outputs": [],
   "source": [
    "for idx, classes in enumerate(range(3347)):\n",
    "    class1 = pred1.values[idx, 1]\n",
    "    class2 = pred2.values[idx, 1]\n",
    "    class3 = pred3.values[idx, 1]\n",
    "    class4 = pred4.values[idx, 1]\n",
    "    all_classes = np.array([class1, class2, class3, class4])\n",
    "    counts = np.bincount(all_classes)\n",
    "    pred1.values[idx, 1] = np.argmax(counts)"
   ]
  },
  {
   "cell_type": "code",
   "execution_count": 6,
   "metadata": {},
   "outputs": [],
   "source": [
    "pred1.to_csv(\"submission_final.csv\", index=False)"
   ]
  }
 ],
 "metadata": {
  "kernelspec": {
   "display_name": "Python 3 (ipykernel)",
   "language": "python",
   "name": "python3"
  },
  "language_info": {
   "codemirror_mode": {
    "name": "ipython",
    "version": 3
   },
   "file_extension": ".py",
   "mimetype": "text/x-python",
   "name": "python",
   "nbconvert_exporter": "python",
   "pygments_lexer": "ipython3",
   "version": "3.8.11"
  }
 },
 "nbformat": 4,
 "nbformat_minor": 4
}
